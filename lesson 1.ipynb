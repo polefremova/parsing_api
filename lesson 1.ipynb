{
 "cells": [
  {
   "cell_type": "markdown",
   "id": "938523fd",
   "metadata": {},
   "source": [
    "# Урок 1. Основы клиент-серверного взаимодействия. Парсинг API"
   ]
  },
  {
   "cell_type": "markdown",
   "id": "edf0ed3c",
   "metadata": {},
   "source": [
    "### 1. Посмотреть документацию к API GitHub, разобраться как вывести список репозиториев для конкретного пользователя, сохранить JSON-вывод в файле *.json."
   ]
  },
  {
   "cell_type": "code",
   "execution_count": 3,
   "id": "4d61b78a",
   "metadata": {},
   "outputs": [
    {
     "name": "stdout",
     "output_type": "stream",
     "text": [
      "Requirement already satisfied: requests in c:\\programdata\\anaconda3\\lib\\site-packages (2.25.1)\n",
      "Requirement already satisfied: chardet<5,>=3.0.2 in c:\\programdata\\anaconda3\\lib\\site-packages (from requests) (4.0.0)\n",
      "Requirement already satisfied: certifi>=2017.4.17 in c:\\programdata\\anaconda3\\lib\\site-packages (from requests) (2020.12.5)\n",
      "Requirement already satisfied: idna<3,>=2.5 in c:\\programdata\\anaconda3\\lib\\site-packages (from requests) (2.10)\n",
      "Requirement already satisfied: urllib3<1.27,>=1.21.1 in c:\\programdata\\anaconda3\\lib\\site-packages (from requests) (1.26.4)\n",
      "Note: you may need to restart the kernel to use updated packages.\n"
     ]
    }
   ],
   "source": [
    "pip install requests"
   ]
  },
  {
   "cell_type": "code",
   "execution_count": 10,
   "id": "581cc325",
   "metadata": {},
   "outputs": [
    {
     "name": "stdout",
     "output_type": "stream",
     "text": [
      "{'avatar_url': 'https://avatars.githubusercontent.com/u/82303858?v=4',\n",
      " 'bio': None,\n",
      " 'blog': '',\n",
      " 'company': None,\n",
      " 'created_at': '2021-04-11T05:43:24Z',\n",
      " 'email': None,\n",
      " 'events_url': 'https://api.github.com/users/polefremova/events{/privacy}',\n",
      " 'followers': 0,\n",
      " 'followers_url': 'https://api.github.com/users/polefremova/followers',\n",
      " 'following': 0,\n",
      " 'following_url': 'https://api.github.com/users/polefremova/following{/other_user}',\n",
      " 'gists_url': 'https://api.github.com/users/polefremova/gists{/gist_id}',\n",
      " 'gravatar_id': '',\n",
      " 'hireable': None,\n",
      " 'html_url': 'https://github.com/polefremova',\n",
      " 'id': 82303858,\n",
      " 'location': None,\n",
      " 'login': 'polefremova',\n",
      " 'name': None,\n",
      " 'node_id': 'MDQ6VXNlcjgyMzAzODU4',\n",
      " 'organizations_url': 'https://api.github.com/users/polefremova/orgs',\n",
      " 'public_gists': 0,\n",
      " 'public_repos': 3,\n",
      " 'received_events_url': 'https://api.github.com/users/polefremova/received_events',\n",
      " 'repos_url': 'https://api.github.com/users/polefremova/repos',\n",
      " 'site_admin': False,\n",
      " 'starred_url': 'https://api.github.com/users/polefremova/starred{/owner}{/repo}',\n",
      " 'subscriptions_url': 'https://api.github.com/users/polefremova/subscriptions',\n",
      " 'twitter_username': None,\n",
      " 'type': 'User',\n",
      " 'updated_at': '2021-04-28T19:04:10Z',\n",
      " 'url': 'https://api.github.com/users/polefremova'}\n"
     ]
    }
   ],
   "source": [
    "import requests\n",
    "from pprint import pprint\n",
    "import json\n",
    "\n",
    "# Имя пользователя github\n",
    "username = \"polefremova\"\n",
    "\n",
    "# url для запроса\n",
    "url = f\"https://api.github.com/users/{username}\"\n",
    "\n",
    "# делаем запрос и возвращаем json\n",
    "user_data = requests.get(url).json()\n",
    "\n",
    "# сохраняем в файл json\n",
    "with open('task1.json', 'w') as data:\n",
    "    json.dump(user_data, data)\n",
    "\n",
    "# выводим\n",
    "pprint(user_data)"
   ]
  },
  {
   "cell_type": "markdown",
   "id": "78d0b1bd",
   "metadata": {},
   "source": [
    "### 2. Изучить список открытых API. Найти среди них любое, требующее авторизацию (любого типа). Выполнить запросы к нему, пройдя авторизацию. Ответ сервера записать в файл."
   ]
  },
  {
   "cell_type": "code",
   "execution_count": 17,
   "id": "5cb4208f",
   "metadata": {},
   "outputs": [],
   "source": [
    "url = 'https://tyumen.hh.ru/account/login'\n",
    "\n",
    "user_agent_val = 'Mozilla/5.0 (Windows NT 10.0; Win64; x64) AppleWebKit/537.36 (KHTML, like Gecko) Chrome/75.0.3770.142 Safari/537.36'\n",
    "\n",
    "# Создаем сессию и указываем ему наш user-agent\n",
    "session = requests.Session()\n",
    "r = session.get(url, headers = {\n",
    "    'User-Agent': user_agent_val\n",
    "})\n",
    "\n",
    "# Указываем referer\n",
    "session.headers.update({'Referer':url})\n",
    "\n",
    "#обновляем User-Agent\n",
    "session.headers.update({'User-Agent':user_agent_val})\n",
    "\n",
    "# Получаем значение _xsrf из cookies\n",
    "_xsrf = session.cookies.get('_xsrf', domain=\".hh.ru\")\n",
    "\n",
    "# Осуществляем вход с помощью метода POST с указанием необходимых данных \n",
    "post_request = session.post(url, {\n",
    "     'backUrl': 'https://moscow.hh.ru/',\n",
    "     'username': 'yourlogin',\n",
    "     'password': 'yourpassword',\n",
    "     '_xsrf':_xsrf,\n",
    "     'remember':'yes',\n",
    "})\n",
    "\n",
    "#Вход успешно воспроизведен и мы сохраняем страницу в html файл\n",
    "with open(\"hh_success.html\",\"w\",encoding=\"utf-8\") as f:\n",
    "    f.write(post_request.text)"
   ]
  },
  {
   "cell_type": "code",
   "execution_count": null,
   "id": "d358f641",
   "metadata": {},
   "outputs": [],
   "source": []
  }
 ],
 "metadata": {
  "kernelspec": {
   "display_name": "Python 3",
   "language": "python",
   "name": "python3"
  },
  "language_info": {
   "codemirror_mode": {
    "name": "ipython",
    "version": 3
   },
   "file_extension": ".py",
   "mimetype": "text/x-python",
   "name": "python",
   "nbconvert_exporter": "python",
   "pygments_lexer": "ipython3",
   "version": "3.8.8"
  }
 },
 "nbformat": 4,
 "nbformat_minor": 5
}
